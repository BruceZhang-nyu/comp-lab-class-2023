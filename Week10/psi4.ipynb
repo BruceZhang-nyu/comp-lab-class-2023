{
 "cells": [
  {
   "cell_type": "code",
   "execution_count": 3,
   "metadata": {},
   "outputs": [
    {
     "name": "stdout",
     "output_type": "stream",
     "text": [
      "CPU times: user 269 ms, sys: 176 ms, total: 445 ms\n",
      "Wall time: 5.45 s\n"
     ]
    }
   ],
   "source": [
    "%%time\n",
    "# Ignore this block -- it's for the documentation build\n",
    "try:\n",
    "    import os, sys\n",
    "    sys.path.insert(1, os.path.abspath('/home/runner/work/psi4/psi4/code/objdir/stage//usr/local/psi4/lib/'))\n",
    "except ImportError:\n",
    "    pass\n",
    "\n",
    "# This is the important part\n",
    "import psi4\n",
    "import numpy as np\n",
    "from scipy.optimize import curve_fit\n",
    "import matplotlib.pyplot as plt"
   ]
  },
  {
   "cell_type": "code",
   "execution_count": 4,
   "metadata": {},
   "outputs": [
    {
     "name": "stdout",
     "output_type": "stream",
     "text": [
      "CPU times: user 1.05 ms, sys: 0 ns, total: 1.05 ms\n",
      "Wall time: 3.08 ms\n"
     ]
    },
    {
     "data": {
      "text/plain": [
       "PosixPath('output.dat')"
      ]
     },
     "execution_count": 4,
     "metadata": {},
     "output_type": "execute_result"
    }
   ],
   "source": [
    "%%time\n",
    "psi4.set_output_file('output.dat', False)"
   ]
  },
  {
   "cell_type": "code",
   "execution_count": 5,
   "metadata": {},
   "outputs": [
    {
     "name": "stdout",
     "output_type": "stream",
     "text": [
      "CPU times: user 298 ms, sys: 22.4 ms, total: 320 ms\n",
      "Wall time: 523 ms\n"
     ]
    },
    {
     "data": {
      "text/plain": [
       "-76.0266327350902"
      ]
     },
     "execution_count": 5,
     "metadata": {},
     "output_type": "execute_result"
    }
   ],
   "source": [
    "%%time\n",
    "\n",
    "#! Sample HF/cc-pVDZ H2O Computation\n",
    "\n",
    "psi4.set_memory('500 MB')\n",
    "\n",
    "h2o = psi4.geometry(\"\"\"\n",
    "O\n",
    "H 1 0.96\n",
    "H 1 0.96 2 104.5\n",
    "\"\"\")\n",
    "\n",
    "psi4.energy('scf/cc-pvdz')"
   ]
  },
  {
   "cell_type": "code",
   "execution_count": 6,
   "metadata": {},
   "outputs": [
    {
     "name": "stdout",
     "output_type": "stream",
     "text": [
      "CPU times: user 276 ms, sys: 5.37 ms, total: 282 ms\n",
      "Wall time: 294 ms\n"
     ]
    },
    {
     "data": {
      "text/plain": [
       "-38.92533462893707"
      ]
     },
     "execution_count": 6,
     "metadata": {},
     "output_type": "execute_result"
    }
   ],
   "source": [
    "%%time\n",
    "\n",
    "#! Sample UHF/6-31G** CH2 Computation\n",
    "\n",
    "R = 1.075\n",
    "A = 133.93\n",
    "\n",
    "ch2 = psi4.geometry(\"\"\"\n",
    "0 3\n",
    "C\n",
    "H 1 {0}\n",
    "H 1 {0} 2 {1}\n",
    "\"\"\".format(R, A)\n",
    ")\n",
    "\n",
    "psi4.set_options({'reference': 'uhf'})\n",
    "psi4.energy('scf/6-31g**')"
   ]
  },
  {
   "cell_type": "code",
   "execution_count": 7,
   "metadata": {},
   "outputs": [
    {
     "name": "stdout",
     "output_type": "stream",
     "text": [
      "Optimizer: Optimization complete!\n",
      "CPU times: user 821 ms, sys: 38.3 ms, total: 860 ms\n",
      "Wall time: 962 ms\n"
     ]
    },
    {
     "data": {
      "text/plain": [
       "-76.02703272937481"
      ]
     },
     "execution_count": 7,
     "metadata": {},
     "output_type": "execute_result"
    }
   ],
   "source": [
    "%%time\n",
    "psi4.set_options({'reference': 'rhf'})\n",
    "psi4.optimize('scf/cc-pvdz', molecule=h2o)\n"
   ]
  },
  {
   "cell_type": "code",
   "execution_count": 8,
   "metadata": {},
   "outputs": [
    {
     "name": "stdout",
     "output_type": "stream",
     "text": [
      "CPU times: user 973 ms, sys: 41.8 ms, total: 1.01 s\n",
      "Wall time: 1.05 s\n"
     ]
    }
   ],
   "source": [
    "%%time\n",
    "scf_e, scf_wfn = psi4.frequency('scf/cc-pvdz', molecule=h2o, return_wfn=True)"
   ]
  },
  {
   "cell_type": "code",
   "execution_count": 9,
   "metadata": {},
   "outputs": [
    {
     "name": "stdout",
     "output_type": "stream",
     "text": [
      "CPU times: user 929 µs, sys: 0 ns, total: 929 µs\n",
      "Wall time: 939 µs\n"
     ]
    }
   ],
   "source": [
    "%%time\n",
    "\n",
    "dimer = psi4.geometry(\"\"\"\n",
    "0 1\n",
    "C   0.000000  -0.667578  -2.124659\n",
    "C   0.000000   0.667578  -2.124659\n",
    "H   0.923621  -1.232253  -2.126185\n",
    "H  -0.923621  -1.232253  -2.126185\n",
    "H  -0.923621   1.232253  -2.126185\n",
    "H   0.923621   1.232253  -2.126185\n",
    "--\n",
    "0 1\n",
    "C   0.000000   0.000000   2.900503\n",
    "C   0.000000   0.000000   1.693240\n",
    "H   0.000000   0.000000   0.627352\n",
    "H   0.000000   0.000000   3.963929\n",
    "units angstrom\n",
    "\"\"\")"
   ]
  },
  {
   "cell_type": "code",
   "execution_count": 10,
   "metadata": {},
   "outputs": [
    {
     "name": "stdout",
     "output_type": "stream",
     "text": [
      "CPU times: user 3.73 s, sys: 255 ms, total: 3.98 s\n",
      "Wall time: 4.27 s\n"
     ]
    },
    {
     "data": {
      "text/plain": [
       "-0.0022355823909805178"
      ]
     },
     "execution_count": 10,
     "metadata": {},
     "output_type": "execute_result"
    }
   ],
   "source": [
    "%%time\n",
    "\n",
    "psi4.set_options({'scf_type': 'df',\n",
    "                  'freeze_core': True})\n",
    "\n",
    "psi4.energy('sapt0/jun-cc-pvdz', molecule=dimer)"
   ]
  },
  {
   "cell_type": "code",
   "execution_count": 11,
   "metadata": {},
   "outputs": [
    {
     "name": "stdout",
     "output_type": "stream",
     "text": [
      "CP-corrected CCSD(T)/aug-cc-pVDZ Interaction Energies\n",
      "\n",
      "\n",
      "          R [Ang]                 E_int [kcal/mol]       \n",
      "---------------------------------------------------------\n",
      "            2.5                        0.758605\n",
      "            3.0                        0.015968\n",
      "            4.0                        -0.016215\n",
      "CPU times: user 5.42 s, sys: 1.4 s, total: 6.82 s\n",
      "Wall time: 10.5 s\n"
     ]
    }
   ],
   "source": [
    "%%time\n",
    "#! Example potential energy surface scan and CP-correction for Ne2\n",
    "\n",
    "ne2_geometry = \"\"\"\n",
    "Ne\n",
    "--\n",
    "Ne 1 {0}\n",
    "\"\"\"\n",
    "\n",
    "Rvals = [2.5, 3.0, 4.0]\n",
    "\n",
    "psi4.set_options({'freeze_core': True})\n",
    "\n",
    "# Initialize a blank dictionary of counterpoise corrected energies\n",
    "# (Need this for the syntax below to work)\n",
    "\n",
    "ecp = {}\n",
    "\n",
    "for R in Rvals:\n",
    "    ne2 = psi4.geometry(ne2_geometry.format(R))\n",
    "    ecp[R] = psi4.energy('ccsd(t)/aug-cc-pvdz', bsse_type='cp', molecule=ne2)\n",
    "\n",
    "# Prints to screen\n",
    "print(\"CP-corrected CCSD(T)/aug-cc-pVDZ Interaction Energies\\n\\n\")\n",
    "print(\"          R [Ang]                 E_int [kcal/mol]       \")\n",
    "print(\"---------------------------------------------------------\")\n",
    "for R in Rvals:\n",
    "    e = ecp[R] * psi4.constants.hartree2kcalmol\n",
    "    print(\"            {:3.1f}                        {:1.6f}\".format(R, e))\n",
    "\n",
    "# Prints to output.dat\n",
    "psi4.core.print_out(\"CP-corrected CCSD(T)/aug-cc-pVDZ Interaction Energies\\n\\n\")\n",
    "psi4.core.print_out(\"          R [Ang]                 E_int [kcal/mol]       \\n\")\n",
    "psi4.core.print_out(\"---------------------------------------------------------\\n\")\n",
    "for R in Rvals:\n",
    "    e = ecp[R] * psi4.constants.hartree2kcalmol\n",
    "    psi4.core.print_out(\"            {:3.1f}                        {:1.6f}\\n\".format(R, e))              "
   ]
  },
  {
   "cell_type": "code",
   "execution_count": 12,
   "metadata": {},
   "outputs": [
    {
     "name": "stdout",
     "output_type": "stream",
     "text": [
      "Distance: 3.50 Angstrom, Energy: 0.000271 Hartree\n",
      "Distance: 3.60 Angstrom, Energy: 0.000060 Hartree\n",
      "Distance: 3.70 Angstrom, Energy: -0.000068 Hartree\n",
      "Distance: 3.80 Angstrom, Energy: -0.000142 Hartree\n",
      "Distance: 3.90 Angstrom, Energy: -0.000180 Hartree\n",
      "Distance: 4.00 Angstrom, Energy: -0.000196 Hartree\n",
      "Distance: 4.10 Angstrom, Energy: -0.000197 Hartree\n",
      "Distance: 4.20 Angstrom, Energy: -0.000191 Hartree\n",
      "Distance: 4.30 Angstrom, Energy: -0.000180 Hartree\n",
      "Distance: 4.40 Angstrom, Energy: -0.000166 Hartree\n",
      "Distance: 4.50 Angstrom, Energy: -0.000152 Hartree\n",
      "Distance: 4.60 Angstrom, Energy: -0.000137 Hartree\n",
      "Distance: 4.70 Angstrom, Energy: -0.000124 Hartree\n",
      "Distance: 4.80 Angstrom, Energy: -0.000111 Hartree\n",
      "Distance: 4.90 Angstrom, Energy: -0.000100 Hartree\n",
      "Distance: 5.00 Angstrom, Energy: -0.000089 Hartree\n",
      "Distance: 5.10 Angstrom, Energy: -0.000080 Hartree\n",
      "Distance: 5.20 Angstrom, Energy: -0.000071 Hartree\n",
      "Distance: 5.30 Angstrom, Energy: -0.000064 Hartree\n",
      "Distance: 5.40 Angstrom, Energy: -0.000057 Hartree\n",
      "Distance: 5.50 Angstrom, Energy: -0.000051 Hartree\n",
      "Distance: 5.60 Angstrom, Energy: -0.000046 Hartree\n",
      "Distance: 5.70 Angstrom, Energy: -0.000041 Hartree\n",
      "Distance: 5.80 Angstrom, Energy: -0.000037 Hartree\n",
      "Distance: 5.90 Angstrom, Energy: -0.000033 Hartree\n",
      "Distance: 6.00 Angstrom, Energy: -0.000030 Hartree\n",
      "CPU times: user 2min 33s, sys: 15.2 s, total: 2min 48s\n",
      "Wall time: 3min 21s\n"
     ]
    }
   ],
   "source": [
    "%%time\n",
    "argon_geometry = \"\"\"\n",
    "Ar\n",
    "--\n",
    "Ar 1 {0}\n",
    "\"\"\"\n",
    "\n",
    "method = 'ccsd(t)/aug-cc-pvdz'\n",
    "energies = []\n",
    "\n",
    "psi4.set_options({'freeze_core': True})\n",
    "for R in np.arange(3.5, 6.1, 0.1): \n",
    "    argon = psi4.geometry(argon_geometry.format(R))\n",
    "    energy = psi4.energy(method,bsse_type='cp', molecule=argon)\n",
    "    energies.append((R, energy))\n",
    "for distance, energy in energies:\n",
    "    print(f'Distance: {distance:.2f} Angstrom, Energy: {energy:.6f} Hartree')"
   ]
  },
  {
   "cell_type": "code",
   "execution_count": 13,
   "metadata": {},
   "outputs": [
    {
     "data": {
      "image/png": "[encoded data removed]",
      "text/plain": [
       "<Figure size 640x480 with 1 Axes>"
      ]
     },
     "metadata": {},
     "output_type": "display_data"
    }
   ],
   "source": [
    "def lennard_jones(r, sigma, eps):\n",
    "    return 4 * eps * ((sigma/r)**12 - (sigma/r)**6)\n",
    "\n",
    "# R_values: A list/array of distances between argon atoms (in Angstroms)\n",
    "# energy_values: A list/array of calculated energies (in Hartrees)\n",
    "R_values, energy_values = zip(*energies)\n",
    "\n",
    "# Fit the curve\n",
    "popt, pcov = curve_fit(lennard_jones, R_values, energy_values)\n",
    "\n",
    "# popt contains the optimized values for sigma and eps\n",
    "sigma_opt, eps_opt = popt\n",
    "\n",
    "\n",
    "fitted_energies = lennard_jones(R_values, sigma_opt, eps_opt)\n",
    "\n",
    "# Plotting the computed values as dots\n",
    "plt.scatter(R_values, energy_values, color='blue', label='Computed Values')\n",
    "\n",
    "# Plotting the fitted curve as a dashed line\n",
    "plt.plot(R_values, fitted_energies, 'r--', label='Fitted Lennard-Jones Curve')\n",
    "\n",
    "# Adding title and labels\n",
    "plt.title('Energy vs. Distance')\n",
    "plt.xlabel('Distance (Angstroms)')\n",
    "plt.ylabel('Energy (Hartrees)')\n",
    "plt.legend()\n",
    "plt.savefig('argon.png')\n",
    "plt.show()\n"
   ]
  },
  {
   "cell_type": "code",
   "execution_count": null,
   "metadata": {},
   "outputs": [],
   "source": []
  }
 ],
 "metadata": {
  "kernelspec": {
   "display_name": "lab_env_2023",
   "language": "python",
   "name": "lab_env_2023"
  },
  "language_info": {
   "codemirror_mode": {
    "name": "ipython",
    "version": 3
   },
   "file_extension": ".py",
   "mimetype": "text/x-python",
   "name": "python",
   "nbconvert_exporter": "python",
   "pygments_lexer": "ipython3",
   "version": "3.9.12"
  }
 },
 "nbformat": 4,
 "nbformat_minor": 2
}
